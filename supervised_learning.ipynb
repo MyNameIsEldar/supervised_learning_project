{
 "cells": [
  {
   "cell_type": "markdown",
   "metadata": {
    "toc": true
   },
   "source": [
    "<h1>Содержание<span class=\"tocSkip\"></span></h1>\n",
    "<div class=\"toc\"><ul class=\"toc-item\"><li><span><a href=\"#Подготовка-данных\" data-toc-modified-id=\"Подготовка-данных-1\"><span class=\"toc-item-num\">1&nbsp;&nbsp;</span>Подготовка данных</a></span><ul class=\"toc-item\"><li><span><a href=\"#Импорт-библиотек-и-настройки\" data-toc-modified-id=\"Импорт-библиотек-и-настройки-1.1\"><span class=\"toc-item-num\">1.1&nbsp;&nbsp;</span>Импорт библиотек и настройки</a></span></li><li><span><a href=\"#Знакомство-с-данными\" data-toc-modified-id=\"Знакомство-с-данными-1.2\"><span class=\"toc-item-num\">1.2&nbsp;&nbsp;</span>Знакомство с данными</a></span></li><li><span><a href=\"#Обработка-пропусков\" data-toc-modified-id=\"Обработка-пропусков-1.3\"><span class=\"toc-item-num\">1.3&nbsp;&nbsp;</span>Обработка пропусков</a></span></li><li><span><a href=\"#Обработка-категориальных-признаков\" data-toc-modified-id=\"Обработка-категориальных-признаков-1.4\"><span class=\"toc-item-num\">1.4&nbsp;&nbsp;</span>Обработка категориальных признаков</a></span></li><li><span><a href=\"#Деление-данных-на-выборки\" data-toc-modified-id=\"Деление-данных-на-выборки-1.5\"><span class=\"toc-item-num\">1.5&nbsp;&nbsp;</span>Деление данных на выборки</a></span></li><li><span><a href=\"#Масштабирование-признаков\" data-toc-modified-id=\"Масштабирование-признаков-1.6\"><span class=\"toc-item-num\">1.6&nbsp;&nbsp;</span>Масштабирование признаков</a></span></li></ul></li><li><span><a href=\"#Исследование-задачи\" data-toc-modified-id=\"Исследование-задачи-2\"><span class=\"toc-item-num\">2&nbsp;&nbsp;</span>Исследование задачи</a></span><ul class=\"toc-item\"><li><span><a href=\"#Построим-график-соотношения-классов\" data-toc-modified-id=\"Построим-график-соотношения-классов-2.1\"><span class=\"toc-item-num\">2.1&nbsp;&nbsp;</span>Построим график соотношения классов</a></span></li><li><span><a href=\"#Изучение-моделей-без-учета-дисбаланса-классов\" data-toc-modified-id=\"Изучение-моделей-без-учета-дисбаланса-классов-2.2\"><span class=\"toc-item-num\">2.2&nbsp;&nbsp;</span>Изучение моделей без учета дисбаланса классов</a></span><ul class=\"toc-item\"><li><span><a href=\"#Логистическая-регрессия\" data-toc-modified-id=\"Логистическая-регрессия-2.2.1\"><span class=\"toc-item-num\">2.2.1&nbsp;&nbsp;</span>Логистическая регрессия</a></span></li><li><span><a href=\"#Случайное-дерево\" data-toc-modified-id=\"Случайное-дерево-2.2.2\"><span class=\"toc-item-num\">2.2.2&nbsp;&nbsp;</span>Случайное дерево</a></span></li><li><span><a href=\"#Случайный-лес\" data-toc-modified-id=\"Случайный-лес-2.2.3\"><span class=\"toc-item-num\">2.2.3&nbsp;&nbsp;</span>Случайный лес</a></span></li><li><span><a href=\"#Вывод\" data-toc-modified-id=\"Вывод-2.2.4\"><span class=\"toc-item-num\">2.2.4&nbsp;&nbsp;</span>Вывод</a></span></li></ul></li></ul></li><li><span><a href=\"#Борьба-с-дисбалансом\" data-toc-modified-id=\"Борьба-с-дисбалансом-3\"><span class=\"toc-item-num\">3&nbsp;&nbsp;</span>Борьба с дисбалансом</a></span><ul class=\"toc-item\"><li><span><a href=\"#Изучение-модели-балансированной-разными-методами\" data-toc-modified-id=\"Изучение-модели-балансированной-разными-методами-3.1\"><span class=\"toc-item-num\">3.1&nbsp;&nbsp;</span>Изучение модели балансированной разными методами</a></span><ul class=\"toc-item\"><li><span><a href=\"#Взвешивание-классов\" data-toc-modified-id=\"Взвешивание-классов-3.1.1\"><span class=\"toc-item-num\">3.1.1&nbsp;&nbsp;</span>Взвешивание классов</a></span></li><li><span><a href=\"#Увеличение-выборки\" data-toc-modified-id=\"Увеличение-выборки-3.1.2\"><span class=\"toc-item-num\">3.1.2&nbsp;&nbsp;</span>Увеличение выборки</a></span></li><li><span><a href=\"#Уменьшение-выборки\" data-toc-modified-id=\"Уменьшение-выборки-3.1.3\"><span class=\"toc-item-num\">3.1.3&nbsp;&nbsp;</span>Уменьшение выборки</a></span></li></ul></li><li><span><a href=\"#Вывод\" data-toc-modified-id=\"Вывод-3.2\"><span class=\"toc-item-num\">3.2&nbsp;&nbsp;</span>Вывод</a></span></li></ul></li><li><span><a href=\"#Тестирование-модели\" data-toc-modified-id=\"Тестирование-модели-4\"><span class=\"toc-item-num\">4&nbsp;&nbsp;</span>Тестирование модели</a></span></li>"
   ]
  },
  {
   "cell_type": "markdown",
   "metadata": {},
   "source": [
    "# Отток клиентов"
   ]
  },
  {
   "cell_type": "markdown",
   "metadata": {},
   "source": [
    "Из «Бета-Банка» стали уходить клиенты. Каждый месяц. Немного, но заметно. Банковские маркетологи посчитали: сохранять текущих клиентов дешевле, чем привлекать новых.\n",
    "\n",
    "Нужно спрогнозировать, уйдёт клиент из банка в ближайшее время или нет. Вам предоставлены исторические данные о поведении клиентов и расторжении договоров с банком. \n",
    "\n",
    "Постройте модель с предельно большим значением *F1*-меры. Чтобы сдать проект успешно, нужно довести метрику до 0.59. Проверьте *F1*-меру на тестовой выборке самостоятельно.\n",
    "\n",
    "Дополнительно измеряйте *AUC-ROC*, сравнивайте её значение с *F1*-мерой.\n",
    "\n",
    "Источник данных: [https://www.kaggle.com/barelydedicated/bank-customer-churn-modeling](https://www.kaggle.com/barelydedicated/bank-customer-churn-modeling)"
   ]
  },
  {
   "cell_type": "markdown",
   "metadata": {},
   "source": [
    "## Подготовка данных"
   ]
  },
  {
   "cell_type": "markdown",
   "metadata": {},
   "source": [
    "### Импорт библиотек и настройки"
   ]
  },
  {
   "cell_type": "code",
   "execution_count": 1,
   "metadata": {},
   "outputs": [],
   "source": [
    "import pandas as pd\n",
    "from sklearn.metrics import f1_score, roc_auc_score\n",
    "from sklearn.preprocessing import StandardScaler\n",
    "from sklearn.preprocessing import OrdinalEncoder \n",
    "from sklearn.tree import DecisionTreeClassifier\n",
    "from sklearn.ensemble import RandomForestClassifier\n",
    "from sklearn.linear_model import LogisticRegression\n",
    "from sklearn.model_selection import train_test_split\n",
    "from sklearn.utils import shuffle\n",
    "import matplotlib.pyplot as plt\n",
    "\n",
    "pd.options.mode.chained_assignment = None"
   ]
  },
  {
   "cell_type": "markdown",
   "metadata": {},
   "source": [
    "### Знакомство с данными"
   ]
  },
  {
   "cell_type": "code",
   "execution_count": 2,
   "metadata": {},
   "outputs": [
    {
     "name": "stdout",
     "output_type": "stream",
     "text": [
      "<class 'pandas.core.frame.DataFrame'>\n",
      "RangeIndex: 10000 entries, 0 to 9999\n",
      "Data columns (total 14 columns):\n",
      " #   Column           Non-Null Count  Dtype  \n",
      "---  ------           --------------  -----  \n",
      " 0   RowNumber        10000 non-null  int64  \n",
      " 1   CustomerId       10000 non-null  int64  \n",
      " 2   Surname          10000 non-null  object \n",
      " 3   CreditScore      10000 non-null  int64  \n",
      " 4   Geography        10000 non-null  object \n",
      " 5   Gender           10000 non-null  object \n",
      " 6   Age              10000 non-null  int64  \n",
      " 7   Tenure           10000 non-null  int64  \n",
      " 8   Balance          10000 non-null  float64\n",
      " 9   NumOfProducts    10000 non-null  int64  \n",
      " 10  HasCrCard        10000 non-null  int64  \n",
      " 11  IsActiveMember   10000 non-null  int64  \n",
      " 12  EstimatedSalary  10000 non-null  float64\n",
      " 13  Exited           10000 non-null  int64  \n",
      "dtypes: float64(2), int64(9), object(3)\n",
      "memory usage: 1.1+ MB\n",
      "None\n"
     ]
    },
    {
     "data": {
      "text/html": [
       "<div>\n",
       "<style scoped>\n",
       "    .dataframe tbody tr th:only-of-type {\n",
       "        vertical-align: middle;\n",
       "    }\n",
       "\n",
       "    .dataframe tbody tr th {\n",
       "        vertical-align: top;\n",
       "    }\n",
       "\n",
       "    .dataframe thead th {\n",
       "        text-align: right;\n",
       "    }\n",
       "</style>\n",
       "<table border=\"1\" class=\"dataframe\">\n",
       "  <thead>\n",
       "    <tr style=\"text-align: right;\">\n",
       "      <th></th>\n",
       "      <th>RowNumber</th>\n",
       "      <th>CustomerId</th>\n",
       "      <th>Surname</th>\n",
       "      <th>CreditScore</th>\n",
       "      <th>Geography</th>\n",
       "      <th>Gender</th>\n",
       "      <th>Age</th>\n",
       "      <th>Tenure</th>\n",
       "      <th>Balance</th>\n",
       "      <th>NumOfProducts</th>\n",
       "      <th>HasCrCard</th>\n",
       "      <th>IsActiveMember</th>\n",
       "      <th>EstimatedSalary</th>\n",
       "      <th>Exited</th>\n",
       "    </tr>\n",
       "  </thead>\n",
       "  <tbody>\n",
       "    <tr>\n",
       "      <th>0</th>\n",
       "      <td>1</td>\n",
       "      <td>15634602</td>\n",
       "      <td>Hargrave</td>\n",
       "      <td>619</td>\n",
       "      <td>France</td>\n",
       "      <td>Female</td>\n",
       "      <td>42</td>\n",
       "      <td>2</td>\n",
       "      <td>0.00</td>\n",
       "      <td>1</td>\n",
       "      <td>1</td>\n",
       "      <td>1</td>\n",
       "      <td>101348.88</td>\n",
       "      <td>1</td>\n",
       "    </tr>\n",
       "    <tr>\n",
       "      <th>1</th>\n",
       "      <td>2</td>\n",
       "      <td>15647311</td>\n",
       "      <td>Hill</td>\n",
       "      <td>608</td>\n",
       "      <td>Spain</td>\n",
       "      <td>Female</td>\n",
       "      <td>41</td>\n",
       "      <td>1</td>\n",
       "      <td>83807.86</td>\n",
       "      <td>1</td>\n",
       "      <td>0</td>\n",
       "      <td>1</td>\n",
       "      <td>112542.58</td>\n",
       "      <td>0</td>\n",
       "    </tr>\n",
       "    <tr>\n",
       "      <th>2</th>\n",
       "      <td>3</td>\n",
       "      <td>15619304</td>\n",
       "      <td>Onio</td>\n",
       "      <td>502</td>\n",
       "      <td>France</td>\n",
       "      <td>Female</td>\n",
       "      <td>42</td>\n",
       "      <td>8</td>\n",
       "      <td>159660.80</td>\n",
       "      <td>3</td>\n",
       "      <td>1</td>\n",
       "      <td>0</td>\n",
       "      <td>113931.57</td>\n",
       "      <td>1</td>\n",
       "    </tr>\n",
       "    <tr>\n",
       "      <th>3</th>\n",
       "      <td>4</td>\n",
       "      <td>15701354</td>\n",
       "      <td>Boni</td>\n",
       "      <td>699</td>\n",
       "      <td>France</td>\n",
       "      <td>Female</td>\n",
       "      <td>39</td>\n",
       "      <td>1</td>\n",
       "      <td>0.00</td>\n",
       "      <td>2</td>\n",
       "      <td>0</td>\n",
       "      <td>0</td>\n",
       "      <td>93826.63</td>\n",
       "      <td>0</td>\n",
       "    </tr>\n",
       "    <tr>\n",
       "      <th>4</th>\n",
       "      <td>5</td>\n",
       "      <td>15737888</td>\n",
       "      <td>Mitchell</td>\n",
       "      <td>850</td>\n",
       "      <td>Spain</td>\n",
       "      <td>Female</td>\n",
       "      <td>43</td>\n",
       "      <td>2</td>\n",
       "      <td>125510.82</td>\n",
       "      <td>1</td>\n",
       "      <td>1</td>\n",
       "      <td>1</td>\n",
       "      <td>79084.10</td>\n",
       "      <td>0</td>\n",
       "    </tr>\n",
       "  </tbody>\n",
       "</table>\n",
       "</div>"
      ],
      "text/plain": [
       "   RowNumber  CustomerId   Surname  CreditScore Geography  Gender  Age  \\\n",
       "0          1    15634602  Hargrave          619    France  Female   42   \n",
       "1          2    15647311      Hill          608     Spain  Female   41   \n",
       "2          3    15619304      Onio          502    France  Female   42   \n",
       "3          4    15701354      Boni          699    France  Female   39   \n",
       "4          5    15737888  Mitchell          850     Spain  Female   43   \n",
       "\n",
       "   Tenure    Balance  NumOfProducts  HasCrCard  IsActiveMember  \\\n",
       "0       2       0.00              1          1               1   \n",
       "1       1   83807.86              1          0               1   \n",
       "2       8  159660.80              3          1               0   \n",
       "3       1       0.00              2          0               0   \n",
       "4       2  125510.82              1          1               1   \n",
       "\n",
       "   EstimatedSalary  Exited  \n",
       "0        101348.88       1  \n",
       "1        112542.58       0  \n",
       "2        113931.57       1  \n",
       "3         93826.63       0  \n",
       "4         79084.10       0  "
      ]
     },
     "execution_count": 2,
     "metadata": {},
     "output_type": "execute_result"
    }
   ],
   "source": [
    "data = pd.read_csv(\"Churn_Modelling.csv\")\n",
    "\n",
    "print(data.info())\n",
    "data.head(5)"
   ]
  },
  {
   "cell_type": "markdown",
   "metadata": {},
   "source": [
    "### Обработка пропусков"
   ]
  },
  {
   "cell_type": "markdown",
   "metadata": {},
   "source": [
    "В столбце `Tenure` есть пропуски вероятнее всего они означают то, что пользователь является клиентом банка менее года."
   ]
  },
  {
   "cell_type": "code",
   "execution_count": 3,
   "metadata": {},
   "outputs": [
    {
     "data": {
      "text/plain": [
       "0"
      ]
     },
     "execution_count": 3,
     "metadata": {},
     "output_type": "execute_result"
    }
   ],
   "source": [
    "data['Tenure'].isna().sum()"
   ]
  },
  {
   "cell_type": "code",
   "execution_count": 4,
   "metadata": {},
   "outputs": [
    {
     "name": "stdout",
     "output_type": "stream",
     "text": [
      "0\n",
      "\n",
      "<class 'pandas.core.frame.DataFrame'>\n",
      "RangeIndex: 10000 entries, 0 to 9999\n",
      "Data columns (total 14 columns):\n",
      " #   Column           Non-Null Count  Dtype  \n",
      "---  ------           --------------  -----  \n",
      " 0   RowNumber        10000 non-null  int64  \n",
      " 1   CustomerId       10000 non-null  int64  \n",
      " 2   Surname          10000 non-null  object \n",
      " 3   CreditScore      10000 non-null  int64  \n",
      " 4   Geography        10000 non-null  object \n",
      " 5   Gender           10000 non-null  object \n",
      " 6   Age              10000 non-null  int64  \n",
      " 7   Tenure           10000 non-null  int64  \n",
      " 8   Balance          10000 non-null  float64\n",
      " 9   NumOfProducts    10000 non-null  int64  \n",
      " 10  HasCrCard        10000 non-null  int64  \n",
      " 11  IsActiveMember   10000 non-null  int64  \n",
      " 12  EstimatedSalary  10000 non-null  float64\n",
      " 13  Exited           10000 non-null  int64  \n",
      "dtypes: float64(2), int64(9), object(3)\n",
      "memory usage: 1.1+ MB\n"
     ]
    }
   ],
   "source": [
    "data['Tenure'] = data['Tenure'].fillna(0)\n",
    "\n",
    "print(data['Tenure'].isna().sum())\n",
    "print()\n",
    "data.info()"
   ]
  },
  {
   "cell_type": "markdown",
   "metadata": {},
   "source": [
    "### Обработка категориальных признаков\n",
    "\n",
    "Воспользуемся техникой `One-Hot Encoding`, т.к. она подходит для всех видов моделей"
   ]
  },
  {
   "cell_type": "markdown",
   "metadata": {},
   "source": [
    "В данных есть столбец `Surname`, который не несет полезной информации для нашей задачи. Удалим его"
   ]
  },
  {
   "cell_type": "code",
   "execution_count": 5,
   "metadata": {},
   "outputs": [],
   "source": [
    "data = data.drop(['Surname'], axis=1)"
   ]
  },
  {
   "cell_type": "code",
   "execution_count": 6,
   "metadata": {},
   "outputs": [
    {
     "data": {
      "text/html": [
       "<div>\n",
       "<style scoped>\n",
       "    .dataframe tbody tr th:only-of-type {\n",
       "        vertical-align: middle;\n",
       "    }\n",
       "\n",
       "    .dataframe tbody tr th {\n",
       "        vertical-align: top;\n",
       "    }\n",
       "\n",
       "    .dataframe thead th {\n",
       "        text-align: right;\n",
       "    }\n",
       "</style>\n",
       "<table border=\"1\" class=\"dataframe\">\n",
       "  <thead>\n",
       "    <tr style=\"text-align: right;\">\n",
       "      <th></th>\n",
       "      <th>RowNumber</th>\n",
       "      <th>CustomerId</th>\n",
       "      <th>CreditScore</th>\n",
       "      <th>Age</th>\n",
       "      <th>Tenure</th>\n",
       "      <th>Balance</th>\n",
       "      <th>NumOfProducts</th>\n",
       "      <th>HasCrCard</th>\n",
       "      <th>IsActiveMember</th>\n",
       "      <th>EstimatedSalary</th>\n",
       "      <th>Exited</th>\n",
       "      <th>Geography_Germany</th>\n",
       "      <th>Geography_Spain</th>\n",
       "      <th>Gender_Male</th>\n",
       "    </tr>\n",
       "  </thead>\n",
       "  <tbody>\n",
       "    <tr>\n",
       "      <th>0</th>\n",
       "      <td>1</td>\n",
       "      <td>15634602</td>\n",
       "      <td>619</td>\n",
       "      <td>42</td>\n",
       "      <td>2</td>\n",
       "      <td>0.00</td>\n",
       "      <td>1</td>\n",
       "      <td>1</td>\n",
       "      <td>1</td>\n",
       "      <td>101348.88</td>\n",
       "      <td>1</td>\n",
       "      <td>0</td>\n",
       "      <td>0</td>\n",
       "      <td>0</td>\n",
       "    </tr>\n",
       "    <tr>\n",
       "      <th>1</th>\n",
       "      <td>2</td>\n",
       "      <td>15647311</td>\n",
       "      <td>608</td>\n",
       "      <td>41</td>\n",
       "      <td>1</td>\n",
       "      <td>83807.86</td>\n",
       "      <td>1</td>\n",
       "      <td>0</td>\n",
       "      <td>1</td>\n",
       "      <td>112542.58</td>\n",
       "      <td>0</td>\n",
       "      <td>0</td>\n",
       "      <td>1</td>\n",
       "      <td>0</td>\n",
       "    </tr>\n",
       "    <tr>\n",
       "      <th>2</th>\n",
       "      <td>3</td>\n",
       "      <td>15619304</td>\n",
       "      <td>502</td>\n",
       "      <td>42</td>\n",
       "      <td>8</td>\n",
       "      <td>159660.80</td>\n",
       "      <td>3</td>\n",
       "      <td>1</td>\n",
       "      <td>0</td>\n",
       "      <td>113931.57</td>\n",
       "      <td>1</td>\n",
       "      <td>0</td>\n",
       "      <td>0</td>\n",
       "      <td>0</td>\n",
       "    </tr>\n",
       "    <tr>\n",
       "      <th>3</th>\n",
       "      <td>4</td>\n",
       "      <td>15701354</td>\n",
       "      <td>699</td>\n",
       "      <td>39</td>\n",
       "      <td>1</td>\n",
       "      <td>0.00</td>\n",
       "      <td>2</td>\n",
       "      <td>0</td>\n",
       "      <td>0</td>\n",
       "      <td>93826.63</td>\n",
       "      <td>0</td>\n",
       "      <td>0</td>\n",
       "      <td>0</td>\n",
       "      <td>0</td>\n",
       "    </tr>\n",
       "    <tr>\n",
       "      <th>4</th>\n",
       "      <td>5</td>\n",
       "      <td>15737888</td>\n",
       "      <td>850</td>\n",
       "      <td>43</td>\n",
       "      <td>2</td>\n",
       "      <td>125510.82</td>\n",
       "      <td>1</td>\n",
       "      <td>1</td>\n",
       "      <td>1</td>\n",
       "      <td>79084.10</td>\n",
       "      <td>0</td>\n",
       "      <td>0</td>\n",
       "      <td>1</td>\n",
       "      <td>0</td>\n",
       "    </tr>\n",
       "  </tbody>\n",
       "</table>\n",
       "</div>"
      ],
      "text/plain": [
       "   RowNumber  CustomerId  CreditScore  Age  Tenure    Balance  NumOfProducts  \\\n",
       "0          1    15634602          619   42       2       0.00              1   \n",
       "1          2    15647311          608   41       1   83807.86              1   \n",
       "2          3    15619304          502   42       8  159660.80              3   \n",
       "3          4    15701354          699   39       1       0.00              2   \n",
       "4          5    15737888          850   43       2  125510.82              1   \n",
       "\n",
       "   HasCrCard  IsActiveMember  EstimatedSalary  Exited  Geography_Germany  \\\n",
       "0          1               1        101348.88       1                  0   \n",
       "1          0               1        112542.58       0                  0   \n",
       "2          1               0        113931.57       1                  0   \n",
       "3          0               0         93826.63       0                  0   \n",
       "4          1               1         79084.10       0                  0   \n",
       "\n",
       "   Geography_Spain  Gender_Male  \n",
       "0                0            0  \n",
       "1                1            0  \n",
       "2                0            0  \n",
       "3                0            0  \n",
       "4                1            0  "
      ]
     },
     "execution_count": 6,
     "metadata": {},
     "output_type": "execute_result"
    }
   ],
   "source": [
    "data = pd.get_dummies(data, drop_first=True)\n",
    "data.head(5)"
   ]
  },
  {
   "cell_type": "markdown",
   "metadata": {},
   "source": [
    "### Деление данных на выборки"
   ]
  },
  {
   "cell_type": "code",
   "execution_count": 7,
   "metadata": {},
   "outputs": [],
   "source": [
    "features = data.drop('Exited', axis=1)\n",
    "target = data['Exited']"
   ]
  },
  {
   "cell_type": "code",
   "execution_count": 8,
   "metadata": {},
   "outputs": [],
   "source": [
    "features_train, features_valid, target_train, target_valid = train_test_split(\n",
    "    features, target, test_size=0.4, random_state=12345)\n",
    "features_valid, features_test, target_valid, target_test = train_test_split(\n",
    "    features_valid, target_valid, test_size=0.5, random_state=12345)"
   ]
  },
  {
   "cell_type": "markdown",
   "metadata": {},
   "source": [
    "### Масштабирование признаков"
   ]
  },
  {
   "cell_type": "code",
   "execution_count": 9,
   "metadata": {},
   "outputs": [],
   "source": [
    "numeric = ['RowNumber', 'CustomerId', 'CreditScore', 'Age', 'Tenure', 'Balance', 'NumOfProducts', 'EstimatedSalary']\n",
    "scaler = StandardScaler()\n",
    "scaler.fit(features_train[numeric]) \n",
    "\n",
    "features_train[numeric] = scaler.transform(features_train[numeric])\n",
    "features_valid[numeric] = scaler.transform(features_valid[numeric])\n",
    "features_test[numeric] = scaler.transform(features_test[numeric])"
   ]
  },
  {
   "cell_type": "markdown",
   "metadata": {},
   "source": [
    "## Исследование задачи"
   ]
  },
  {
   "cell_type": "markdown",
   "metadata": {},
   "source": [
    "### Построим график соотношения классов"
   ]
  },
  {
   "cell_type": "code",
   "execution_count": 10,
   "metadata": {},
   "outputs": [
    {
     "data": {
      "text/plain": [
       "<AxesSubplot:>"
      ]
     },
     "execution_count": 10,
     "metadata": {},
     "output_type": "execute_result"
    },
    {
     "data": {
      "image/png": "[encoded data removed]",
      "text/plain": [
       "<Figure size 640x480 with 1 Axes>"
      ]
     },
     "metadata": {},
     "output_type": "display_data"
    }
   ],
   "source": [
    "target_train.value_counts().plot(kind='bar')"
   ]
  },
  {
   "cell_type": "code",
   "execution_count": 11,
   "metadata": {
    "scrolled": true
   },
   "outputs": [
    {
     "name": "stdout",
     "output_type": "stream",
     "text": [
      "Размеры классов отличаются в 4.016722408026756 раз (раза)\n"
     ]
    }
   ],
   "source": [
    "print('Размеры классов отличаются в {} раз (раза)'.format(target_train.value_counts()[0] / target_train.value_counts()[1]))"
   ]
  },
  {
   "cell_type": "markdown",
   "metadata": {},
   "source": [
    "### Изучение моделей без учета дисбаланса классов"
   ]
  },
  {
   "cell_type": "markdown",
   "metadata": {},
   "source": [
    "#### Логистическая регрессия"
   ]
  },
  {
   "cell_type": "code",
   "execution_count": 12,
   "metadata": {},
   "outputs": [
    {
     "name": "stdout",
     "output_type": "stream",
     "text": [
      "0.33220338983050846 0.7578454382133936\n"
     ]
    }
   ],
   "source": [
    "logistic_model = LogisticRegression(solver='liblinear', random_state=12345)\n",
    "logistic_model.fit(features_train, target_train)\n",
    "\n",
    "roc_auc = roc_auc_score(target_valid, logistic_model.predict_proba(features_valid)[:,1])\n",
    "print(f1_score(target_valid, logistic_model.predict(features_valid)), roc_auc)"
   ]
  },
  {
   "cell_type": "markdown",
   "metadata": {},
   "source": [
    "#### Случайное дерево"
   ]
  },
  {
   "cell_type": "code",
   "execution_count": 13,
   "metadata": {},
   "outputs": [
    {
     "name": "stdout",
     "output_type": "stream",
     "text": [
      "0.5217391304347825 2\n",
      "0.5528700906344411 4\n",
      "0.5688350983358548 6\n",
      "0.5811001410437237 9\n",
      "\n",
      "best forest model score: 0.5811001410437237, ROC-AUC: 0.783922295682892, best depth: 9\n"
     ]
    }
   ],
   "source": [
    "score = 0\n",
    "for depth in range(1, 30):\n",
    "    tree_model = DecisionTreeClassifier(max_depth=depth, random_state=12345)\n",
    "    tree_model.fit(features_train, target_train)\n",
    "    model_score = f1_score(target_valid, tree_model.predict(features_valid))\n",
    "    if model_score > score:\n",
    "        best_depth = depth\n",
    "        score = model_score\n",
    "        print(score, depth)\n",
    "        best_tree_model = tree_model\n",
    "roc_auc = roc_auc_score(target_valid, best_tree_model.predict_proba(features_valid)[:,1])\n",
    "print()\n",
    "print('best forest model score: {}, ROC-AUC: {}, best depth: {}'.format(score, roc_auc, best_depth))"
   ]
  },
  {
   "cell_type": "markdown",
   "metadata": {},
   "source": [
    "#### Случайный лес"
   ]
  },
  {
   "cell_type": "code",
   "execution_count": 14,
   "metadata": {},
   "outputs": [
    {
     "name": "stdout",
     "output_type": "stream",
     "text": [
      "0.38838475499092556 5\n",
      "0.4181818181818182 200\n",
      "\n",
      "best forest model score: 0.4181818181818182, ROC-AUC: 0.8372147182114579, best estimators number 200\n"
     ]
    }
   ],
   "source": [
    "score = 0\n",
    "for estimators in [5, 50, 100, 200, 300, 400]:\n",
    "    forest_model = RandomForestClassifier(n_estimators=estimators, max_depth=5, random_state=12345)\n",
    "    forest_model.fit(features_train, target_train)\n",
    "    model_score = f1_score(target_valid, forest_model.predict(features_valid))\n",
    "    if model_score > score:\n",
    "        print(model_score, estimators)\n",
    "        best_estimators = estimators\n",
    "        score = model_score\n",
    "        best_forest_model = forest_model\n",
    "roc_auc = roc_auc_score(target_valid, best_forest_model.predict_proba(features_valid)[:,1])\n",
    "print()\n",
    "print('best forest model score: {}, ROC-AUC: {}, best estimators number {}'.format(score, roc_auc, best_estimators))"
   ]
  },
  {
   "cell_type": "markdown",
   "metadata": {},
   "source": [
    "#### Вывод"
   ]
  },
  {
   "cell_type": "markdown",
   "metadata": {},
   "source": [
    "Наилучшей моделью без учета дисбаланса стала `DecisionTreeClassifier`. Сохраним ее."
   ]
  },
  {
   "cell_type": "markdown",
   "metadata": {},
   "source": [
    "## Борьба с дисбалансом"
   ]
  },
  {
   "cell_type": "markdown",
   "metadata": {},
   "source": [
    "### Изучение модели балансированной разными методами"
   ]
  },
  {
   "cell_type": "markdown",
   "metadata": {},
   "source": [
    "#### Взвешивание классов"
   ]
  },
  {
   "cell_type": "code",
   "execution_count": 15,
   "metadata": {},
   "outputs": [
    {
     "name": "stdout",
     "output_type": "stream",
     "text": [
      "0.485885372112917 0.7627132997417114\n"
     ]
    }
   ],
   "source": [
    "logistic_model = LogisticRegression(solver='liblinear', random_state=12345, class_weight='balanced')\n",
    "logistic_model.fit(features_train, target_train)\n",
    "\n",
    "roc_auc = roc_auc_score(target_valid, logistic_model.predict_proba(features_valid)[:,1])\n",
    "print(f1_score(target_valid, logistic_model.predict(features_valid)), roc_auc)"
   ]
  },
  {
   "cell_type": "code",
   "execution_count": 16,
   "metadata": {},
   "outputs": [
    {
     "name": "stdout",
     "output_type": "stream",
     "text": [
      "0.4994903160040775 1\n",
      "0.541015625 2\n",
      "0.5961945031712473 5\n",
      "\n",
      "best tree model score: 0.5961945031712473, ROC-AUC:0.8267145639642147, depth is 5\n"
     ]
    }
   ],
   "source": [
    "score = 0\n",
    "for depth in range(1, 20):\n",
    "    model_balanced = DecisionTreeClassifier(max_depth=depth, random_state=12345, class_weight='balanced')\n",
    "    model_balanced.fit(features_train, target_train)\n",
    "    model_score = f1_score(target_valid, model_balanced.predict(features_valid))\n",
    "    if model_score > score:\n",
    "        best_depth = depth\n",
    "        score = model_score\n",
    "        print(score, depth)\n",
    "        model_balanced_best = model_balanced\n",
    "roc_auc = roc_auc_score(target_valid, model_balanced_best.predict_proba(features_valid)[:,1])\n",
    "print()\n",
    "print('best tree model score: {}, ROC-AUC:{}, depth is {}'.format(score, roc_auc, best_depth))"
   ]
  },
  {
   "cell_type": "code",
   "execution_count": 17,
   "metadata": {},
   "outputs": [
    {
     "name": "stdout",
     "output_type": "stream",
     "text": [
      "0.5803310613437196 5\n",
      "0.6072874493927126 50\n",
      "0.6092184368737475 100\n",
      "0.6101694915254238 200\n",
      "\n",
      "best forest model score: 0.6101694915254238, ROC-AUC: 0.8457089021830521, best estimators number: 200\n"
     ]
    }
   ],
   "source": [
    "score = 0\n",
    "for estimators in [5, 50, 100, 200, 300, 400]:\n",
    "    forest_model = RandomForestClassifier(n_estimators=estimators, max_depth=5, random_state=12345, class_weight='balanced')\n",
    "    forest_model.fit(features_train, target_train)\n",
    "    model_score = f1_score(target_valid, forest_model.predict(features_valid))\n",
    "    if model_score > score:\n",
    "        print(model_score, estimators)\n",
    "        best_estimators = estimators\n",
    "        score = model_score\n",
    "        best_forest_model_balanced = forest_model\n",
    "roc_auc = roc_auc_score(target_valid, best_forest_model_balanced.predict_proba(features_valid)[:,1])\n",
    "print()\n",
    "print('best forest model score: {}, ROC-AUC: {}, best estimators number: {}'.format(score, roc_auc, best_estimators))"
   ]
  },
  {
   "cell_type": "markdown",
   "metadata": {},
   "source": [
    "#### Увеличение выборки"
   ]
  },
  {
   "cell_type": "markdown",
   "metadata": {},
   "source": [
    "Напишем функцию `upsample`"
   ]
  },
  {
   "cell_type": "code",
   "execution_count": 18,
   "metadata": {},
   "outputs": [],
   "source": [
    "def upsample(features, target, repeat):\n",
    "    features_zeros = features[target == 0]\n",
    "    features_ones = features[target == 1]\n",
    "    target_zeros = target[target == 0]\n",
    "    target_ones = target[target == 1]\n",
    "\n",
    "    features_upsampled = pd.concat([features_zeros] + [features_ones] * repeat)\n",
    "    target_upsampled = pd.concat([target_zeros] + [target_ones] * repeat)\n",
    "    \n",
    "    features_upsampled, target_upsampled = shuffle(\n",
    "        features_upsampled, target_upsampled, random_state=12345)\n",
    "    \n",
    "    return features_upsampled, target_upsampled"
   ]
  },
  {
   "cell_type": "markdown",
   "metadata": {},
   "source": [
    "Обновим выборки, используя написанную функцию"
   ]
  },
  {
   "cell_type": "code",
   "execution_count": 19,
   "metadata": {},
   "outputs": [],
   "source": [
    "features_upsampled, target_upsampled = upsample(features_train, target_train, 4)"
   ]
  },
  {
   "cell_type": "code",
   "execution_count": 20,
   "metadata": {
    "scrolled": true
   },
   "outputs": [
    {
     "name": "stdout",
     "output_type": "stream",
     "text": [
      "0.485885372112917 0.7626558350824769\n"
     ]
    }
   ],
   "source": [
    "logistic_model = LogisticRegression(solver='liblinear', random_state=12345)\n",
    "logistic_model.fit(features_upsampled, target_upsampled)\n",
    "\n",
    "roc_auc = roc_auc_score(target_valid, logistic_model.predict_proba(features_valid)[:,1])\n",
    "print(f1_score(target_valid, logistic_model.predict(features_valid)), roc_auc)"
   ]
  },
  {
   "cell_type": "code",
   "execution_count": 21,
   "metadata": {},
   "outputs": [
    {
     "name": "stdout",
     "output_type": "stream",
     "text": [
      "0.4994903160040775 1\n",
      "0.541015625 2\n",
      "0.5991561181434598 5\n",
      "\n",
      "best tree model score: 0.5991561181434598, ROC-AUC: 0.8314916918200571, depth is 5\n"
     ]
    }
   ],
   "source": [
    "score = 0\n",
    "for depth in range(1, 30):\n",
    "    model_upsampled = DecisionTreeClassifier(max_depth=depth, random_state=12345)\n",
    "    model_upsampled.fit(features_upsampled, target_upsampled)\n",
    "    model_score = f1_score(target_valid, model_upsampled.predict(features_valid))\n",
    "    if model_score > score:\n",
    "        best_depth = depth\n",
    "        score = model_score\n",
    "        print(score, depth)\n",
    "        model_upsampled_best = model_upsampled\n",
    "roc_auc = roc_auc_score(target_valid, model_upsampled_best.predict_proba(features_valid)[:,1])\n",
    "print()\n",
    "print('best tree model score: {}, ROC-AUC: {}, depth is {}'.format(score, roc_auc, best_depth))"
   ]
  },
  {
   "cell_type": "code",
   "execution_count": 22,
   "metadata": {},
   "outputs": [
    {
     "name": "stdout",
     "output_type": "stream",
     "text": [
      "0.5747126436781609 5\n",
      "0.5996055226824458 50\n",
      "0.6095617529880478 100\n",
      "\n",
      "best forest model score: 0.6095617529880478, ROC-AUC: 0.845359577544021, best estimators number: 100\n"
     ]
    }
   ],
   "source": [
    "score = 0\n",
    "for estimators in [5, 50, 100, 200, 300, 400]:\n",
    "    forest_model = RandomForestClassifier(n_estimators=estimators, max_depth=5, random_state=12345)\n",
    "    forest_model.fit(features_upsampled, target_upsampled)\n",
    "    model_score = f1_score(target_valid, forest_model.predict(features_valid))\n",
    "    if model_score > score:\n",
    "        print(model_score, estimators)\n",
    "        best_estimators = estimators\n",
    "        score = model_score\n",
    "        best_forest_model = forest_model\n",
    "roc_auc = roc_auc_score(target_valid, best_forest_model.predict_proba(features_valid)[:,1])\n",
    "print()\n",
    "print('best forest model score: {}, ROC-AUC: {}, best estimators number: {}'.format(score, roc_auc, best_estimators))"
   ]
  },
  {
   "cell_type": "markdown",
   "metadata": {},
   "source": [
    "#### Уменьшение выборки"
   ]
  },
  {
   "cell_type": "markdown",
   "metadata": {},
   "source": [
    "Напишем функцию `downsample`"
   ]
  },
  {
   "cell_type": "code",
   "execution_count": 23,
   "metadata": {},
   "outputs": [],
   "source": [
    "def downsample(features, target, fraction):\n",
    "    features_zeros = features[target == 0]\n",
    "    features_ones = features[target == 1]\n",
    "    target_zeros = target[target == 0]\n",
    "    target_ones = target[target == 1]\n",
    "\n",
    "    features_downsampled = pd.concat(\n",
    "        [features_zeros.sample(frac=fraction, random_state=12345)] + [features_ones])\n",
    "    target_downsampled = pd.concat(\n",
    "        [target_zeros.sample(frac=fraction, random_state=12345)] + [target_ones])\n",
    "    \n",
    "    features_downsampled, target_downsampled = shuffle(\n",
    "        features_downsampled, target_downsampled, random_state=12345)\n",
    "    \n",
    "    return features_downsampled, target_downsampled"
   ]
  },
  {
   "cell_type": "markdown",
   "metadata": {},
   "source": [
    "Обновим выборки, используя написанную функцию"
   ]
  },
  {
   "cell_type": "code",
   "execution_count": 24,
   "metadata": {},
   "outputs": [],
   "source": [
    "features_downsampled, target_downsampled = downsample(features_train, target_train, 0.25)"
   ]
  },
  {
   "cell_type": "code",
   "execution_count": 25,
   "metadata": {
    "scrolled": true
   },
   "outputs": [
    {
     "name": "stdout",
     "output_type": "stream",
     "text": [
      "0.4826989619377162 0.7612025840949922\n"
     ]
    }
   ],
   "source": [
    "logistic_model = LogisticRegression(solver='liblinear', random_state=12345)\n",
    "logistic_model.fit(features_downsampled, target_downsampled)\n",
    "\n",
    "roc_auc = roc_auc_score(target_valid, logistic_model.predict_proba(features_valid)[:,1])\n",
    "print(f1_score(target_valid, logistic_model.predict(features_valid)), roc_auc)"
   ]
  },
  {
   "cell_type": "code",
   "execution_count": 26,
   "metadata": {},
   "outputs": [
    {
     "name": "stdout",
     "output_type": "stream",
     "text": [
      "0.5061845861084681 1\n",
      "0.5394495412844036 2\n",
      "0.5552353506243997 3\n",
      "0.5940996948118006 5\n",
      "\n",
      "best tree model score: 0.5940996948118006, ROC-AUC: 0.8257588359474713, depth is 5\n"
     ]
    }
   ],
   "source": [
    "score = 0\n",
    "for depth in range(1, 20):\n",
    "    model_downsampled = DecisionTreeClassifier(max_depth=depth, random_state=12345)\n",
    "    model_downsampled.fit(features_downsampled, target_downsampled)\n",
    "    model_score = f1_score(target_valid, model_downsampled.predict(features_valid))\n",
    "    if model_score > score:\n",
    "        best_depth = depth\n",
    "        score = model_score\n",
    "        print(score, depth)\n",
    "        model_downsampled_best = model_downsampled\n",
    "roc_auc = roc_auc_score(target_valid, model_downsampled_best.predict_proba(features_valid)[:,1])\n",
    "print()\n",
    "print('best tree model score: {}, ROC-AUC: {}, depth is {}'.format(score, roc_auc, best_depth))"
   ]
  },
  {
   "cell_type": "code",
   "execution_count": 27,
   "metadata": {},
   "outputs": [
    {
     "name": "stdout",
     "output_type": "stream",
     "text": [
      "0.5936883629191322 5\n",
      "0.5984990619136961 100\n",
      "\n",
      "best forest model score: 0.5984990619136961, ROC-AUC: 0.8395541347334547, best estimators number: 100\n"
     ]
    }
   ],
   "source": [
    "score = 0\n",
    "for estimators in [5, 50, 100, 200, 300, 400]:\n",
    "    forest_model = RandomForestClassifier(n_estimators=estimators, max_depth=5, random_state=12345)\n",
    "    forest_model.fit(features_downsampled, target_downsampled)\n",
    "    model_score = f1_score(target_valid, forest_model.predict(features_valid))\n",
    "    if model_score > score:\n",
    "        print(model_score, estimators)\n",
    "        best_estimators = estimators\n",
    "        score = model_score\n",
    "        best_forest_model = forest_model\n",
    "roc_auc = roc_auc_score(target_valid, best_forest_model.predict_proba(features_valid)[:,1])\n",
    "print()\n",
    "print('best forest model score: {}, ROC-AUC: {}, best estimators number: {}'.format(score, roc_auc, best_estimators))"
   ]
  },
  {
   "cell_type": "markdown",
   "metadata": {},
   "source": [
    "### Вывод"
   ]
  },
  {
   "cell_type": "markdown",
   "metadata": {},
   "source": [
    "Наилучший результат показала модель RandomForestClassifier, при балансировке который был использован метод `Взвешивания кассов`."
   ]
  },
  {
   "cell_type": "code",
   "execution_count": 28,
   "metadata": {},
   "outputs": [
    {
     "data": {
      "text/plain": [
       "<AxesSubplot:>"
      ]
     },
     "execution_count": 28,
     "metadata": {},
     "output_type": "execute_result"
    },
    {
     "data": {
      "image/png": "[encoded data removed]",
      "text/plain": [
       "<Figure size 640x480 with 1 Axes>"
      ]
     },
     "metadata": {},
     "output_type": "display_data"
    }
   ],
   "source": [
    "feature_importances = pd.Series(best_forest_model_balanced.feature_importances_, index=features.columns)\n",
    "feature_importances.sort_values(ascending=False).plot(kind='bar')"
   ]
  },
  {
   "cell_type": "markdown",
   "metadata": {},
   "source": [
    "Наиболее важными факторами стали: Возраст клиента, Количество продуктов и страна проживания Германия (очень интересно)"
   ]
  },
  {
   "cell_type": "markdown",
   "metadata": {},
   "source": [
    "## Тестирование модели"
   ]
  },
  {
   "cell_type": "markdown",
   "metadata": {},
   "source": [
    "### Random Forest"
   ]
  },
  {
   "cell_type": "code",
   "execution_count": 29,
   "metadata": {},
   "outputs": [
    {
     "name": "stdout",
     "output_type": "stream",
     "text": [
      "f1: 0.5942744323790721, AUC-ROC: 0.8397801733248784\n"
     ]
    }
   ],
   "source": [
    "f1 = f1_score(target_test, best_forest_model_balanced.predict(features_test))\n",
    "auc_roc = roc_auc_score(target_test, best_forest_model_balanced.predict_proba(features_test)[:,1])\n",
    "\n",
    "print('f1: {}, AUC-ROC: {}'.format(f1, auc_roc))"
   ]
  },
  {
   "cell_type": "markdown",
   "metadata": {},
   "source": [
    "### Decision Tree"
   ]
  },
  {
   "cell_type": "code",
   "execution_count": 30,
   "metadata": {},
   "outputs": [
    {
     "name": "stdout",
     "output_type": "stream",
     "text": [
      "f1: 0.5841073271413829, AUC-ROC: 0.83360242013219\n"
     ]
    }
   ],
   "source": [
    "f1 = f1_score(target_test, model_balanced_best.predict(features_test))\n",
    "auc_roc = roc_auc_score(target_test, model_balanced_best.predict_proba(features_test)[:,1])\n",
    "\n",
    "print('f1: {}, AUC-ROC: {}'.format(f1, auc_roc))"
   ]
  },
  {
   "cell_type": "code",
   "execution_count": null,
   "metadata": {},
   "outputs": [],
   "source": []
  }
 ],
 "metadata": {
  "ExecuteTimeLog": [
   {
    "duration": 52,
    "start_time": "2022-08-09T13:53:55.597Z"
   },
   {
    "duration": 1088,
    "start_time": "2022-08-09T13:53:58.642Z"
   },
   {
    "duration": 94,
    "start_time": "2022-08-09T13:53:59.732Z"
   },
   {
    "duration": 14,
    "start_time": "2022-08-09T13:54:08.570Z"
   },
   {
    "duration": 433,
    "start_time": "2022-08-09T13:59:02.656Z"
   },
   {
    "duration": 435,
    "start_time": "2022-08-09T13:59:13.181Z"
   },
   {
    "duration": 396,
    "start_time": "2022-08-09T13:59:27.838Z"
   },
   {
    "duration": 540,
    "start_time": "2022-08-09T14:00:00.614Z"
   },
   {
    "duration": 400,
    "start_time": "2022-08-09T14:00:12.144Z"
   },
   {
    "duration": 406,
    "start_time": "2022-08-09T14:00:20.573Z"
   },
   {
    "duration": 406,
    "start_time": "2022-08-09T14:00:34.603Z"
   },
   {
    "duration": 406,
    "start_time": "2022-08-09T14:00:42.175Z"
   },
   {
    "duration": 420,
    "start_time": "2022-08-09T14:00:46.754Z"
   },
   {
    "duration": 407,
    "start_time": "2022-08-09T14:00:57.641Z"
   },
   {
    "duration": 401,
    "start_time": "2022-08-09T14:01:03.608Z"
   },
   {
    "duration": 411,
    "start_time": "2022-08-09T14:01:06.306Z"
   },
   {
    "duration": 45,
    "start_time": "2022-08-09T14:03:42.026Z"
   },
   {
    "duration": 39,
    "start_time": "2022-08-09T14:04:03.510Z"
   },
   {
    "duration": 158,
    "start_time": "2022-08-09T14:04:14.431Z"
   },
   {
    "duration": 81,
    "start_time": "2022-08-09T14:04:17.878Z"
   },
   {
    "duration": 63,
    "start_time": "2022-08-09T14:04:28.994Z"
   },
   {
    "duration": 93,
    "start_time": "2022-08-09T14:04:34.698Z"
   },
   {
    "duration": 72,
    "start_time": "2022-08-09T14:04:45.029Z"
   },
   {
    "duration": 72,
    "start_time": "2022-08-09T14:05:57.774Z"
   },
   {
    "duration": 78,
    "start_time": "2022-08-09T14:06:43.809Z"
   },
   {
    "duration": 232,
    "start_time": "2022-08-09T14:14:41.284Z"
   },
   {
    "duration": 8,
    "start_time": "2022-08-09T14:20:52.543Z"
   },
   {
    "duration": 4,
    "start_time": "2022-08-09T14:21:25.733Z"
   },
   {
    "duration": 78,
    "start_time": "2022-08-09T14:21:26.446Z"
   },
   {
    "duration": 211,
    "start_time": "2022-08-09T14:21:27.090Z"
   },
   {
    "duration": 17,
    "start_time": "2022-08-09T14:21:27.819Z"
   },
   {
    "duration": 16,
    "start_time": "2022-08-09T14:21:33.277Z"
   },
   {
    "duration": 60,
    "start_time": "2022-08-09T14:21:42.985Z"
   },
   {
    "duration": 72,
    "start_time": "2022-08-09T14:24:16.940Z"
   },
   {
    "duration": 483,
    "start_time": "2022-08-09T14:25:53.838Z"
   },
   {
    "duration": 755,
    "start_time": "2022-08-09T14:26:13.575Z"
   },
   {
    "duration": 747,
    "start_time": "2022-08-09T14:28:45.331Z"
   },
   {
    "duration": 458,
    "start_time": "2022-08-09T14:30:07.773Z"
   },
   {
    "duration": 29,
    "start_time": "2022-08-09T14:34:41.288Z"
   },
   {
    "duration": 15,
    "start_time": "2022-08-09T14:34:47.945Z"
   },
   {
    "duration": 146,
    "start_time": "2022-08-09T14:35:09.148Z"
   },
   {
    "duration": 139,
    "start_time": "2022-08-09T14:35:31.140Z"
   },
   {
    "duration": 275,
    "start_time": "2022-08-09T14:35:44.102Z"
   },
   {
    "duration": 120,
    "start_time": "2022-08-09T14:36:14.421Z"
   },
   {
    "duration": 156,
    "start_time": "2022-08-09T14:36:29.155Z"
   },
   {
    "duration": 120,
    "start_time": "2022-08-09T14:36:47.038Z"
   },
   {
    "duration": 1915,
    "start_time": "2022-08-10T18:15:00.980Z"
   },
   {
    "duration": 304,
    "start_time": "2022-08-10T18:15:02.898Z"
   },
   {
    "duration": 0,
    "start_time": "2022-08-10T18:15:03.204Z"
   },
   {
    "duration": 0,
    "start_time": "2022-08-10T18:15:03.205Z"
   },
   {
    "duration": 0,
    "start_time": "2022-08-10T18:15:03.206Z"
   },
   {
    "duration": 0,
    "start_time": "2022-08-10T18:15:03.208Z"
   },
   {
    "duration": 0,
    "start_time": "2022-08-10T18:15:03.209Z"
   },
   {
    "duration": 75,
    "start_time": "2022-08-10T18:15:14.623Z"
   },
   {
    "duration": 1578,
    "start_time": "2022-08-10T18:15:21.970Z"
   },
   {
    "duration": 79,
    "start_time": "2022-08-10T18:15:23.550Z"
   },
   {
    "duration": 229,
    "start_time": "2022-08-10T18:15:23.631Z"
   },
   {
    "duration": 77,
    "start_time": "2022-08-10T18:15:23.862Z"
   },
   {
    "duration": 76,
    "start_time": "2022-08-10T18:15:23.941Z"
   },
   {
    "duration": 752,
    "start_time": "2022-08-10T18:15:24.019Z"
   },
   {
    "duration": 129,
    "start_time": "2022-08-10T18:15:24.773Z"
   },
   {
    "duration": 1354,
    "start_time": "2022-08-11T05:57:55.873Z"
   },
   {
    "duration": 121,
    "start_time": "2022-08-11T05:57:57.229Z"
   },
   {
    "duration": 227,
    "start_time": "2022-08-11T05:57:57.352Z"
   },
   {
    "duration": 63,
    "start_time": "2022-08-11T05:57:57.580Z"
   },
   {
    "duration": 62,
    "start_time": "2022-08-11T05:57:57.645Z"
   },
   {
    "duration": 536,
    "start_time": "2022-08-11T05:57:57.708Z"
   },
   {
    "duration": 0,
    "start_time": "2022-08-11T05:57:58.246Z"
   },
   {
    "duration": 0,
    "start_time": "2022-08-11T05:57:58.246Z"
   },
   {
    "duration": 0,
    "start_time": "2022-08-11T05:57:58.247Z"
   },
   {
    "duration": 1229,
    "start_time": "2022-08-11T06:01:52.860Z"
   },
   {
    "duration": 60,
    "start_time": "2022-08-11T06:01:54.090Z"
   },
   {
    "duration": 209,
    "start_time": "2022-08-11T06:01:54.151Z"
   },
   {
    "duration": 69,
    "start_time": "2022-08-11T06:01:54.363Z"
   },
   {
    "duration": 64,
    "start_time": "2022-08-11T06:01:54.434Z"
   },
   {
    "duration": 28,
    "start_time": "2022-08-11T06:01:54.500Z"
   },
   {
    "duration": 105,
    "start_time": "2022-08-11T06:01:54.530Z"
   },
   {
    "duration": 470,
    "start_time": "2022-08-11T06:01:54.636Z"
   },
   {
    "duration": 348,
    "start_time": "2022-08-11T06:01:55.108Z"
   },
   {
    "duration": 91,
    "start_time": "2022-08-11T06:07:18.565Z"
   },
   {
    "duration": 205,
    "start_time": "2022-08-11T06:07:20.272Z"
   },
   {
    "duration": 8,
    "start_time": "2022-08-11T06:07:21.767Z"
   },
   {
    "duration": 5030,
    "start_time": "2022-08-11T06:10:05.753Z"
   },
   {
    "duration": 181,
    "start_time": "2022-08-11T06:10:10.784Z"
   },
   {
    "duration": 5460,
    "start_time": "2022-08-11T06:10:34.473Z"
   },
   {
    "duration": 12541,
    "start_time": "2022-08-11T06:10:52.165Z"
   },
   {
    "duration": 11372,
    "start_time": "2022-08-11T06:11:17.456Z"
   },
   {
    "duration": 1857,
    "start_time": "2022-08-11T06:11:42.456Z"
   },
   {
    "duration": 171,
    "start_time": "2022-08-11T06:11:53.060Z"
   },
   {
    "duration": 9271,
    "start_time": "2022-08-11T06:12:20.392Z"
   },
   {
    "duration": 10634,
    "start_time": "2022-08-11T06:12:49.542Z"
   },
   {
    "duration": 188,
    "start_time": "2022-08-11T06:13:11.054Z"
   },
   {
    "duration": 9262,
    "start_time": "2022-08-11T06:13:27.317Z"
   },
   {
    "duration": 181,
    "start_time": "2022-08-11T06:13:36.581Z"
   },
   {
    "duration": 103,
    "start_time": "2022-08-11T06:17:16.288Z"
   },
   {
    "duration": 32737,
    "start_time": "2022-08-11T06:17:41.232Z"
   },
   {
    "duration": 182,
    "start_time": "2022-08-11T06:18:13.971Z"
   },
   {
    "duration": 1197,
    "start_time": "2022-08-11T06:20:32.074Z"
   },
   {
    "duration": 74,
    "start_time": "2022-08-11T06:20:33.274Z"
   },
   {
    "duration": 196,
    "start_time": "2022-08-11T06:20:33.349Z"
   },
   {
    "duration": 64,
    "start_time": "2022-08-11T06:20:33.547Z"
   },
   {
    "duration": 66,
    "start_time": "2022-08-11T06:20:33.613Z"
   },
   {
    "duration": 25,
    "start_time": "2022-08-11T06:20:33.681Z"
   },
   {
    "duration": 103,
    "start_time": "2022-08-11T06:20:33.708Z"
   },
   {
    "duration": 449,
    "start_time": "2022-08-11T06:20:33.813Z"
   },
   {
    "duration": 309,
    "start_time": "2022-08-11T06:20:34.264Z"
   },
   {
    "duration": 9685,
    "start_time": "2022-08-11T06:20:34.576Z"
   },
   {
    "duration": 172,
    "start_time": "2022-08-11T06:20:44.263Z"
   },
   {
    "duration": 4370,
    "start_time": "2022-08-11T06:20:44.437Z"
   },
   {
    "duration": 170,
    "start_time": "2022-08-11T06:20:48.809Z"
   },
   {
    "duration": 7603,
    "start_time": "2022-08-11T06:21:03.776Z"
   },
   {
    "duration": 46,
    "start_time": "2022-08-11T09:16:28.064Z"
   },
   {
    "duration": 1415,
    "start_time": "2022-08-11T09:16:33.032Z"
   },
   {
    "duration": 222,
    "start_time": "2022-08-11T09:16:34.450Z"
   },
   {
    "duration": 210,
    "start_time": "2022-08-11T09:16:34.674Z"
   },
   {
    "duration": 68,
    "start_time": "2022-08-11T09:16:34.886Z"
   },
   {
    "duration": 68,
    "start_time": "2022-08-11T09:16:34.956Z"
   },
   {
    "duration": 43,
    "start_time": "2022-08-11T09:16:35.026Z"
   },
   {
    "duration": 120,
    "start_time": "2022-08-11T09:16:35.071Z"
   },
   {
    "duration": 466,
    "start_time": "2022-08-11T09:16:35.193Z"
   },
   {
    "duration": 299,
    "start_time": "2022-08-11T09:16:35.661Z"
   },
   {
    "duration": 9830,
    "start_time": "2022-08-11T09:16:35.961Z"
   },
   {
    "duration": 172,
    "start_time": "2022-08-11T09:16:45.792Z"
   },
   {
    "duration": 185,
    "start_time": "2022-08-11T09:17:34.037Z"
   },
   {
    "duration": 4917,
    "start_time": "2022-08-11T09:17:34.225Z"
   },
   {
    "duration": 11053,
    "start_time": "2022-08-11T09:20:49.989Z"
   },
   {
    "duration": 17185,
    "start_time": "2022-08-11T09:21:07.324Z"
   },
   {
    "duration": 1347,
    "start_time": "2022-08-11T09:23:01.559Z"
   },
   {
    "duration": 63,
    "start_time": "2022-08-11T09:23:02.908Z"
   },
   {
    "duration": 213,
    "start_time": "2022-08-11T09:23:02.973Z"
   },
   {
    "duration": 76,
    "start_time": "2022-08-11T09:23:03.188Z"
   },
   {
    "duration": 55,
    "start_time": "2022-08-11T09:23:03.266Z"
   },
   {
    "duration": 44,
    "start_time": "2022-08-11T09:23:03.322Z"
   },
   {
    "duration": 113,
    "start_time": "2022-08-11T09:23:03.367Z"
   },
   {
    "duration": 485,
    "start_time": "2022-08-11T09:23:03.481Z"
   },
   {
    "duration": 292,
    "start_time": "2022-08-11T09:23:03.968Z"
   },
   {
    "duration": 10567,
    "start_time": "2022-08-11T09:23:04.261Z"
   },
   {
    "duration": 190,
    "start_time": "2022-08-11T09:23:14.830Z"
   },
   {
    "duration": 17263,
    "start_time": "2022-08-11T09:24:06.117Z"
   },
   {
    "duration": 186,
    "start_time": "2022-08-11T09:24:23.382Z"
   },
   {
    "duration": 2,
    "start_time": "2022-08-11T09:26:46.914Z"
   },
   {
    "duration": 215,
    "start_time": "2022-08-11T09:35:34.324Z"
   },
   {
    "duration": 11123,
    "start_time": "2022-08-11T09:36:17.351Z"
   },
   {
    "duration": 19140,
    "start_time": "2022-08-11T09:38:14.330Z"
   },
   {
    "duration": 18116,
    "start_time": "2022-08-11T09:39:00.570Z"
   },
   {
    "duration": 21545,
    "start_time": "2022-08-11T09:40:14.860Z"
   },
   {
    "duration": 21464,
    "start_time": "2022-08-11T09:40:38.362Z"
   },
   {
    "duration": 20910,
    "start_time": "2022-08-11T09:41:19.800Z"
   },
   {
    "duration": 16693,
    "start_time": "2022-08-11T09:41:58.681Z"
   },
   {
    "duration": 10879,
    "start_time": "2022-08-11T09:42:45.755Z"
   },
   {
    "duration": 56,
    "start_time": "2022-08-11T19:01:01.604Z"
   },
   {
    "duration": 1704,
    "start_time": "2022-08-11T19:01:07.459Z"
   },
   {
    "duration": 110,
    "start_time": "2022-08-11T19:01:09.165Z"
   },
   {
    "duration": 240,
    "start_time": "2022-08-11T19:01:09.277Z"
   },
   {
    "duration": 83,
    "start_time": "2022-08-11T19:01:09.519Z"
   },
   {
    "duration": 63,
    "start_time": "2022-08-11T19:01:09.604Z"
   },
   {
    "duration": 45,
    "start_time": "2022-08-11T19:01:09.669Z"
   },
   {
    "duration": 134,
    "start_time": "2022-08-11T19:01:09.715Z"
   },
   {
    "duration": 554,
    "start_time": "2022-08-11T19:01:09.851Z"
   },
   {
    "duration": 97,
    "start_time": "2022-08-11T19:01:10.407Z"
   },
   {
    "duration": 20137,
    "start_time": "2022-08-11T19:01:10.507Z"
   },
   {
    "duration": 8294,
    "start_time": "2022-08-11T19:01:30.645Z"
   },
   {
    "duration": 2,
    "start_time": "2022-08-11T19:01:38.941Z"
   },
   {
    "duration": 594,
    "start_time": "2022-08-11T19:01:38.946Z"
   },
   {
    "duration": 475,
    "start_time": "2022-08-11T19:02:07.711Z"
   },
   {
    "duration": 151,
    "start_time": "2022-08-11T19:06:31.911Z"
   },
   {
    "duration": 4,
    "start_time": "2022-08-11T19:06:36.462Z"
   },
   {
    "duration": 82,
    "start_time": "2022-08-11T19:06:37.068Z"
   },
   {
    "duration": 4,
    "start_time": "2022-08-11T19:06:58.135Z"
   },
   {
    "duration": 4,
    "start_time": "2022-08-11T19:07:03.148Z"
   },
   {
    "duration": 937,
    "start_time": "2022-08-11T19:07:03.586Z"
   },
   {
    "duration": 1391,
    "start_time": "2022-08-11T19:07:12.979Z"
   },
   {
    "duration": 1043,
    "start_time": "2022-08-11T19:07:25.536Z"
   },
   {
    "duration": 9,
    "start_time": "2022-08-11T19:08:01.949Z"
   },
   {
    "duration": 218,
    "start_time": "2022-08-11T19:09:30.169Z"
   },
   {
    "duration": 249,
    "start_time": "2022-08-11T19:09:35.606Z"
   },
   {
    "duration": 285,
    "start_time": "2022-08-11T19:09:39.435Z"
   },
   {
    "duration": 318,
    "start_time": "2022-08-11T19:09:42.733Z"
   },
   {
    "duration": 370,
    "start_time": "2022-08-11T19:09:45.533Z"
   },
   {
    "duration": 428,
    "start_time": "2022-08-11T19:09:49.354Z"
   },
   {
    "duration": 330,
    "start_time": "2022-08-11T19:09:54.178Z"
   },
   {
    "duration": 1100,
    "start_time": "2022-08-11T19:10:27.482Z"
   },
   {
    "duration": 1177,
    "start_time": "2022-08-11T19:10:31.949Z"
   },
   {
    "duration": 834,
    "start_time": "2022-08-11T19:10:35.524Z"
   },
   {
    "duration": 759,
    "start_time": "2022-08-11T19:10:38.832Z"
   },
   {
    "duration": 651,
    "start_time": "2022-08-11T19:10:43.308Z"
   },
   {
    "duration": 743,
    "start_time": "2022-08-11T19:10:46.182Z"
   },
   {
    "duration": 334,
    "start_time": "2022-08-11T19:10:59.832Z"
   },
   {
    "duration": 333,
    "start_time": "2022-08-11T19:11:04.501Z"
   },
   {
    "duration": 332,
    "start_time": "2022-08-11T19:11:08.949Z"
   },
   {
    "duration": 374,
    "start_time": "2022-08-11T19:11:12.012Z"
   },
   {
    "duration": 333,
    "start_time": "2022-08-11T19:11:16.628Z"
   },
   {
    "duration": 338,
    "start_time": "2022-08-11T19:11:19.267Z"
   },
   {
    "duration": 595,
    "start_time": "2022-08-11T19:14:37.904Z"
   },
   {
    "duration": 4,
    "start_time": "2022-08-11T19:14:39.480Z"
   },
   {
    "duration": 948,
    "start_time": "2022-08-11T19:14:41.056Z"
   },
   {
    "duration": 6,
    "start_time": "2022-08-11T19:14:42.750Z"
   },
   {
    "duration": 429,
    "start_time": "2022-08-11T19:14:43.388Z"
   },
   {
    "duration": 463,
    "start_time": "2022-08-11T19:15:40.449Z"
   },
   {
    "duration": 5,
    "start_time": "2022-08-11T19:15:41.526Z"
   },
   {
    "duration": 727,
    "start_time": "2022-08-11T19:15:42.208Z"
   },
   {
    "duration": 5,
    "start_time": "2022-08-11T19:15:43.434Z"
   },
   {
    "duration": 79,
    "start_time": "2022-08-11T19:15:44.060Z"
   },
   {
    "duration": 351,
    "start_time": "2022-08-11T19:16:06.730Z"
   },
   {
    "duration": 1355,
    "start_time": "2022-08-12T06:34:49.198Z"
   },
   {
    "duration": 111,
    "start_time": "2022-08-12T06:34:50.555Z"
   },
   {
    "duration": 201,
    "start_time": "2022-08-12T06:34:50.668Z"
   },
   {
    "duration": 69,
    "start_time": "2022-08-12T06:34:50.870Z"
   },
   {
    "duration": 75,
    "start_time": "2022-08-12T06:34:50.942Z"
   },
   {
    "duration": 33,
    "start_time": "2022-08-12T06:34:51.019Z"
   },
   {
    "duration": 102,
    "start_time": "2022-08-12T06:34:51.054Z"
   },
   {
    "duration": 378,
    "start_time": "2022-08-12T06:34:51.157Z"
   },
   {
    "duration": 102,
    "start_time": "2022-08-12T06:34:51.538Z"
   },
   {
    "duration": 12065,
    "start_time": "2022-08-12T06:34:51.642Z"
   },
   {
    "duration": 5894,
    "start_time": "2022-08-12T06:35:03.709Z"
   },
   {
    "duration": 0,
    "start_time": "2022-08-12T06:35:09.605Z"
   },
   {
    "duration": 0,
    "start_time": "2022-08-12T06:35:09.607Z"
   },
   {
    "duration": 0,
    "start_time": "2022-08-12T06:35:09.608Z"
   },
   {
    "duration": 0,
    "start_time": "2022-08-12T06:35:09.609Z"
   },
   {
    "duration": 0,
    "start_time": "2022-08-12T06:35:09.611Z"
   },
   {
    "duration": 0,
    "start_time": "2022-08-12T06:35:09.612Z"
   },
   {
    "duration": 0,
    "start_time": "2022-08-12T06:35:09.613Z"
   },
   {
    "duration": 7648,
    "start_time": "2022-08-12T06:35:26.774Z"
   },
   {
    "duration": 74,
    "start_time": "2022-08-12T06:36:56.538Z"
   },
   {
    "duration": 1208,
    "start_time": "2022-08-12T06:37:06.233Z"
   },
   {
    "duration": 61,
    "start_time": "2022-08-12T06:37:07.443Z"
   },
   {
    "duration": 194,
    "start_time": "2022-08-12T06:37:07.506Z"
   },
   {
    "duration": 74,
    "start_time": "2022-08-12T06:37:07.701Z"
   },
   {
    "duration": 81,
    "start_time": "2022-08-12T06:37:07.777Z"
   },
   {
    "duration": 32,
    "start_time": "2022-08-12T06:37:07.860Z"
   },
   {
    "duration": 158,
    "start_time": "2022-08-12T06:37:07.893Z"
   },
   {
    "duration": 416,
    "start_time": "2022-08-12T06:37:08.053Z"
   },
   {
    "duration": 175,
    "start_time": "2022-08-12T06:37:08.471Z"
   },
   {
    "duration": 12290,
    "start_time": "2022-08-12T06:37:08.649Z"
   },
   {
    "duration": 7581,
    "start_time": "2022-08-12T06:37:20.941Z"
   },
   {
    "duration": 3,
    "start_time": "2022-08-12T06:37:28.523Z"
   },
   {
    "duration": 340,
    "start_time": "2022-08-12T06:37:28.528Z"
   },
   {
    "duration": 4,
    "start_time": "2022-08-12T06:37:28.871Z"
   },
   {
    "duration": 525,
    "start_time": "2022-08-12T06:37:28.876Z"
   },
   {
    "duration": 4,
    "start_time": "2022-08-12T06:37:29.402Z"
   },
   {
    "duration": 237,
    "start_time": "2022-08-12T06:37:29.408Z"
   },
   {
    "duration": 2,
    "start_time": "2022-08-12T06:37:29.647Z"
   },
   {
    "duration": 8563,
    "start_time": "2022-08-12T06:37:50.336Z"
   },
   {
    "duration": 7130,
    "start_time": "2022-08-12T06:38:09.944Z"
   },
   {
    "duration": 8488,
    "start_time": "2022-08-12T06:38:29.414Z"
   },
   {
    "duration": 543,
    "start_time": "2022-08-12T06:39:17.936Z"
   },
   {
    "duration": 619,
    "start_time": "2022-08-12T06:39:23.028Z"
   },
   {
    "duration": 687,
    "start_time": "2022-08-12T06:39:27.436Z"
   },
   {
    "duration": 722,
    "start_time": "2022-08-12T06:39:31.473Z"
   },
   {
    "duration": 540,
    "start_time": "2022-08-12T06:39:35.568Z"
   },
   {
    "duration": 195,
    "start_time": "2022-08-12T06:39:42.960Z"
   },
   {
    "duration": 195,
    "start_time": "2022-08-12T06:39:46.736Z"
   },
   {
    "duration": 209,
    "start_time": "2022-08-12T06:39:50.350Z"
   },
   {
    "duration": 177,
    "start_time": "2022-08-12T06:39:53.052Z"
   },
   {
    "duration": 240,
    "start_time": "2022-08-12T06:39:57.070Z"
   },
   {
    "duration": 304,
    "start_time": "2022-08-12T06:40:00.424Z"
   },
   {
    "duration": 171,
    "start_time": "2022-08-12T06:40:03.589Z"
   },
   {
    "duration": 171,
    "start_time": "2022-08-12T06:40:07.241Z"
   },
   {
    "duration": 164,
    "start_time": "2022-08-12T06:40:10.942Z"
   },
   {
    "duration": 194,
    "start_time": "2022-08-12T06:40:13.640Z"
   },
   {
    "duration": 153,
    "start_time": "2022-08-12T06:40:16.540Z"
   },
   {
    "duration": 125,
    "start_time": "2022-08-12T06:40:44.395Z"
   },
   {
    "duration": 525,
    "start_time": "2022-08-12T06:40:47.728Z"
   },
   {
    "duration": 41,
    "start_time": "2022-08-12T06:42:07.325Z"
   },
   {
    "duration": 59,
    "start_time": "2022-08-12T06:42:20.442Z"
   },
   {
    "duration": 58,
    "start_time": "2022-08-12T06:42:32.916Z"
   },
   {
    "duration": 60,
    "start_time": "2022-08-12T06:52:36.231Z"
   },
   {
    "duration": 44,
    "start_time": "2022-08-12T06:52:47.430Z"
   },
   {
    "duration": 84,
    "start_time": "2022-08-12T06:53:25.976Z"
   },
   {
    "duration": 134,
    "start_time": "2022-08-12T06:55:54.930Z"
   },
   {
    "duration": 146,
    "start_time": "2022-08-12T06:56:43.875Z"
   },
   {
    "duration": 4,
    "start_time": "2022-08-12T06:58:25.326Z"
   },
   {
    "duration": 20,
    "start_time": "2022-08-12T06:58:28.026Z"
   },
   {
    "duration": 297,
    "start_time": "2022-08-12T07:01:25.669Z"
   },
   {
    "duration": 5,
    "start_time": "2022-08-12T07:11:52.007Z"
   },
   {
    "duration": 5,
    "start_time": "2022-08-12T07:13:15.719Z"
   },
   {
    "duration": 5,
    "start_time": "2022-08-12T07:13:26.110Z"
   },
   {
    "duration": 58,
    "start_time": "2022-08-12T07:14:20.032Z"
   },
   {
    "duration": 57,
    "start_time": "2022-08-12T07:15:00.205Z"
   },
   {
    "duration": 64,
    "start_time": "2022-08-12T07:15:18.515Z"
   },
   {
    "duration": 58,
    "start_time": "2022-08-12T07:16:25.399Z"
   },
   {
    "duration": 58,
    "start_time": "2022-08-12T07:16:43.814Z"
   },
   {
    "duration": 57,
    "start_time": "2022-08-12T07:16:44.442Z"
   },
   {
    "duration": 69,
    "start_time": "2022-08-12T07:16:45.176Z"
   },
   {
    "duration": 345,
    "start_time": "2022-08-12T07:18:20.976Z"
   },
   {
    "duration": 4,
    "start_time": "2022-08-12T07:18:24.369Z"
   },
   {
    "duration": 603,
    "start_time": "2022-08-12T07:18:27.895Z"
   },
   {
    "duration": 4,
    "start_time": "2022-08-12T07:18:30.853Z"
   },
   {
    "duration": 162,
    "start_time": "2022-08-12T07:18:32.525Z"
   },
   {
    "duration": 60,
    "start_time": "2022-08-12T07:18:36.456Z"
   },
   {
    "duration": 59,
    "start_time": "2022-08-12T07:18:36.937Z"
   },
   {
    "duration": 60,
    "start_time": "2022-08-12T07:18:37.538Z"
   },
   {
    "duration": 5642,
    "start_time": "2022-08-12T07:18:56.349Z"
   },
   {
    "duration": 11844,
    "start_time": "2022-08-12T07:19:07.711Z"
   },
   {
    "duration": 284,
    "start_time": "2022-08-12T07:19:39.922Z"
   },
   {
    "duration": 308,
    "start_time": "2022-08-12T07:19:43.965Z"
   },
   {
    "duration": 328,
    "start_time": "2022-08-12T07:19:47.458Z"
   },
   {
    "duration": 340,
    "start_time": "2022-08-12T07:19:51.030Z"
   },
   {
    "duration": 345,
    "start_time": "2022-08-12T07:19:53.633Z"
   },
   {
    "duration": 356,
    "start_time": "2022-08-12T07:19:56.353Z"
   },
   {
    "duration": 314,
    "start_time": "2022-08-12T07:20:01.270Z"
   },
   {
    "duration": 12806,
    "start_time": "2022-08-12T07:31:24.635Z"
   },
   {
    "duration": 6803,
    "start_time": "2022-08-12T07:31:45.869Z"
   },
   {
    "duration": 9800,
    "start_time": "2022-08-12T07:33:06.660Z"
   },
   {
    "duration": 2161,
    "start_time": "2022-08-12T07:34:33.624Z"
   },
   {
    "duration": 4021,
    "start_time": "2022-08-12T07:34:44.068Z"
   },
   {
    "duration": 2525,
    "start_time": "2022-08-12T07:34:51.716Z"
   },
   {
    "duration": 3696,
    "start_time": "2022-08-12T07:34:54.713Z"
   },
   {
    "duration": 16538,
    "start_time": "2022-08-12T07:35:00.712Z"
   },
   {
    "duration": 57,
    "start_time": "2022-08-12T07:35:17.252Z"
   },
   {
    "duration": 58,
    "start_time": "2022-08-12T07:35:18.744Z"
   },
   {
    "duration": 58,
    "start_time": "2022-08-12T07:35:19.761Z"
   },
   {
    "duration": 25,
    "start_time": "2022-08-12T07:35:55.155Z"
   },
   {
    "duration": 63,
    "start_time": "2022-08-12T07:36:16.802Z"
   },
   {
    "duration": 60,
    "start_time": "2022-08-12T07:36:17.304Z"
   },
   {
    "duration": 58,
    "start_time": "2022-08-12T07:36:18.030Z"
   },
   {
    "duration": 1227,
    "start_time": "2022-08-12T07:36:27.875Z"
   },
   {
    "duration": 125,
    "start_time": "2022-08-12T07:36:29.104Z"
   },
   {
    "duration": 193,
    "start_time": "2022-08-12T07:36:29.230Z"
   },
   {
    "duration": 69,
    "start_time": "2022-08-12T07:36:29.424Z"
   },
   {
    "duration": 82,
    "start_time": "2022-08-12T07:36:29.495Z"
   },
   {
    "duration": 28,
    "start_time": "2022-08-12T07:36:29.578Z"
   },
   {
    "duration": 108,
    "start_time": "2022-08-12T07:36:29.607Z"
   },
   {
    "duration": 5,
    "start_time": "2022-08-12T07:36:29.717Z"
   },
   {
    "duration": 381,
    "start_time": "2022-08-12T07:36:29.724Z"
   },
   {
    "duration": 47,
    "start_time": "2022-08-12T07:36:30.106Z"
   },
   {
    "duration": 11852,
    "start_time": "2022-08-12T07:36:30.239Z"
   },
   {
    "duration": 5597,
    "start_time": "2022-08-12T07:36:42.092Z"
   },
   {
    "duration": 3,
    "start_time": "2022-08-12T07:36:47.690Z"
   },
   {
    "duration": 6732,
    "start_time": "2022-08-12T07:36:47.696Z"
   },
   {
    "duration": 3,
    "start_time": "2022-08-12T07:36:54.430Z"
   },
   {
    "duration": 16509,
    "start_time": "2022-08-12T07:36:54.438Z"
   },
   {
    "duration": 4,
    "start_time": "2022-08-12T07:37:10.949Z"
   },
   {
    "duration": 4026,
    "start_time": "2022-08-12T07:37:10.954Z"
   },
   {
    "duration": 86,
    "start_time": "2022-08-12T07:37:14.981Z"
   },
   {
    "duration": 81,
    "start_time": "2022-08-12T07:37:15.069Z"
   },
   {
    "duration": 75,
    "start_time": "2022-08-12T07:37:15.152Z"
   },
   {
    "duration": 3,
    "start_time": "2022-08-12T07:37:15.238Z"
   },
   {
    "duration": 6364,
    "start_time": "2022-08-12T13:09:50.086Z"
   },
   {
    "duration": 164,
    "start_time": "2022-08-12T13:09:56.452Z"
   },
   {
    "duration": 0,
    "start_time": "2022-08-12T13:09:56.618Z"
   },
   {
    "duration": 0,
    "start_time": "2022-08-12T13:09:56.619Z"
   },
   {
    "duration": 0,
    "start_time": "2022-08-12T13:09:56.620Z"
   },
   {
    "duration": 0,
    "start_time": "2022-08-12T13:09:56.622Z"
   },
   {
    "duration": 0,
    "start_time": "2022-08-12T13:09:56.623Z"
   },
   {
    "duration": 0,
    "start_time": "2022-08-12T13:09:56.624Z"
   },
   {
    "duration": 0,
    "start_time": "2022-08-12T13:09:56.625Z"
   },
   {
    "duration": 0,
    "start_time": "2022-08-12T13:09:56.626Z"
   },
   {
    "duration": 0,
    "start_time": "2022-08-12T13:09:56.626Z"
   },
   {
    "duration": 0,
    "start_time": "2022-08-12T13:09:56.627Z"
   },
   {
    "duration": 0,
    "start_time": "2022-08-12T13:09:56.628Z"
   },
   {
    "duration": 0,
    "start_time": "2022-08-12T13:09:56.629Z"
   },
   {
    "duration": 0,
    "start_time": "2022-08-12T13:09:56.630Z"
   },
   {
    "duration": 0,
    "start_time": "2022-08-12T13:09:56.631Z"
   },
   {
    "duration": 0,
    "start_time": "2022-08-12T13:09:56.631Z"
   },
   {
    "duration": 0,
    "start_time": "2022-08-12T13:09:56.632Z"
   },
   {
    "duration": 96,
    "start_time": "2022-08-12T13:10:08.776Z"
   },
   {
    "duration": 46,
    "start_time": "2022-08-12T13:10:14.867Z"
   },
   {
    "duration": 47,
    "start_time": "2022-08-12T13:10:46.203Z"
   },
   {
    "duration": 49,
    "start_time": "2022-08-12T13:11:06.762Z"
   },
   {
    "duration": 98,
    "start_time": "2022-08-12T13:11:53.090Z"
   },
   {
    "duration": 250,
    "start_time": "2022-08-12T13:12:03.342Z"
   },
   {
    "duration": 49,
    "start_time": "2022-08-12T13:12:05.067Z"
   },
   {
    "duration": 71,
    "start_time": "2022-08-12T13:12:05.225Z"
   },
   {
    "duration": 29,
    "start_time": "2022-08-12T13:12:06.889Z"
   },
   {
    "duration": 99,
    "start_time": "2022-08-12T13:12:08.415Z"
   },
   {
    "duration": 5,
    "start_time": "2022-08-12T13:12:08.632Z"
   },
   {
    "duration": 299,
    "start_time": "2022-08-12T13:12:09.603Z"
   },
   {
    "duration": 12,
    "start_time": "2022-08-12T13:12:09.973Z"
   },
   {
    "duration": 2281,
    "start_time": "2022-08-12T13:13:03.915Z"
   },
   {
    "duration": 58,
    "start_time": "2022-08-12T13:13:42.665Z"
   },
   {
    "duration": 201,
    "start_time": "2022-08-12T13:13:44.044Z"
   },
   {
    "duration": 31,
    "start_time": "2022-08-12T13:13:44.393Z"
   },
   {
    "duration": 57,
    "start_time": "2022-08-12T13:13:44.623Z"
   },
   {
    "duration": 28,
    "start_time": "2022-08-12T13:13:45.080Z"
   },
   {
    "duration": 84,
    "start_time": "2022-08-12T13:13:45.977Z"
   },
   {
    "duration": 4,
    "start_time": "2022-08-12T13:13:46.091Z"
   },
   {
    "duration": 312,
    "start_time": "2022-08-12T13:13:46.303Z"
   },
   {
    "duration": 94,
    "start_time": "2022-08-12T13:13:46.617Z"
   },
   {
    "duration": 10466,
    "start_time": "2022-08-12T13:13:46.713Z"
   },
   {
    "duration": 5468,
    "start_time": "2022-08-12T13:13:57.182Z"
   },
   {
    "duration": 0,
    "start_time": "2022-08-12T13:14:02.651Z"
   },
   {
    "duration": 0,
    "start_time": "2022-08-12T13:14:02.653Z"
   },
   {
    "duration": 0,
    "start_time": "2022-08-12T13:14:02.654Z"
   },
   {
    "duration": 0,
    "start_time": "2022-08-12T13:14:02.656Z"
   },
   {
    "duration": 0,
    "start_time": "2022-08-12T13:14:02.657Z"
   },
   {
    "duration": 0,
    "start_time": "2022-08-12T13:14:02.658Z"
   },
   {
    "duration": 5464,
    "start_time": "2022-08-12T13:18:25.981Z"
   },
   {
    "duration": 5683,
    "start_time": "2022-08-12T13:18:32.288Z"
   },
   {
    "duration": 4,
    "start_time": "2022-08-12T13:18:41.234Z"
   },
   {
    "duration": 4,
    "start_time": "2022-08-12T13:18:44.982Z"
   },
   {
    "duration": 4,
    "start_time": "2022-08-12T13:18:51.926Z"
   },
   {
    "duration": 4,
    "start_time": "2022-08-12T13:18:57.466Z"
   },
   {
    "duration": 93,
    "start_time": "2022-08-12T13:19:11.827Z"
   },
   {
    "duration": 22,
    "start_time": "2022-08-12T13:19:16.172Z"
   },
   {
    "duration": 60,
    "start_time": "2022-08-12T13:44:19.503Z"
   },
   {
    "duration": 45,
    "start_time": "2022-08-14T16:42:17.145Z"
   },
   {
    "duration": 1492,
    "start_time": "2022-08-14T16:42:21.279Z"
   },
   {
    "duration": 104,
    "start_time": "2022-08-14T16:42:24.919Z"
   },
   {
    "duration": 14,
    "start_time": "2022-08-14T16:43:07.933Z"
   },
   {
    "duration": 83,
    "start_time": "2022-08-14T16:43:54.807Z"
   },
   {
    "duration": 6,
    "start_time": "2022-08-14T16:46:18.480Z"
   },
   {
    "duration": 25,
    "start_time": "2022-08-14T16:46:43.096Z"
   },
   {
    "duration": 17,
    "start_time": "2022-08-14T16:47:21.892Z"
   },
   {
    "duration": 5,
    "start_time": "2022-08-14T16:47:39.475Z"
   },
   {
    "duration": 8,
    "start_time": "2022-08-14T16:47:47.004Z"
   },
   {
    "duration": 14,
    "start_time": "2022-08-14T16:48:18.285Z"
   },
   {
    "duration": 17,
    "start_time": "2022-08-14T16:49:11.919Z"
   },
   {
    "duration": 20,
    "start_time": "2022-08-14T16:49:18.308Z"
   },
   {
    "duration": 94,
    "start_time": "2022-08-14T16:53:29.301Z"
   },
   {
    "duration": 4,
    "start_time": "2022-08-14T16:53:38.519Z"
   },
   {
    "duration": 17,
    "start_time": "2022-08-14T16:53:40.433Z"
   },
   {
    "duration": 9,
    "start_time": "2022-08-14T16:58:55.571Z"
   },
   {
    "duration": 1391,
    "start_time": "2022-08-14T16:59:04.700Z"
   },
   {
    "duration": 67,
    "start_time": "2022-08-14T16:59:06.093Z"
   },
   {
    "duration": 6,
    "start_time": "2022-08-14T16:59:06.162Z"
   },
   {
    "duration": 21,
    "start_time": "2022-08-14T16:59:06.170Z"
   },
   {
    "duration": 9,
    "start_time": "2022-08-14T16:59:06.193Z"
   },
   {
    "duration": 45,
    "start_time": "2022-08-14T16:59:06.204Z"
   },
   {
    "duration": 5,
    "start_time": "2022-08-14T16:59:06.251Z"
   },
   {
    "duration": 22,
    "start_time": "2022-08-14T16:59:06.257Z"
   },
   {
    "duration": 40,
    "start_time": "2022-08-14T16:59:06.281Z"
   },
   {
    "duration": 120,
    "start_time": "2022-08-14T16:59:06.323Z"
   },
   {
    "duration": 5,
    "start_time": "2022-08-14T16:59:06.445Z"
   },
   {
    "duration": 37,
    "start_time": "2022-08-14T16:59:06.452Z"
   },
   {
    "duration": 296,
    "start_time": "2022-08-14T16:59:06.491Z"
   },
   {
    "duration": 0,
    "start_time": "2022-08-14T16:59:06.789Z"
   },
   {
    "duration": 0,
    "start_time": "2022-08-14T16:59:06.790Z"
   },
   {
    "duration": 0,
    "start_time": "2022-08-14T16:59:06.792Z"
   },
   {
    "duration": 0,
    "start_time": "2022-08-14T16:59:06.822Z"
   },
   {
    "duration": 0,
    "start_time": "2022-08-14T16:59:06.823Z"
   },
   {
    "duration": 0,
    "start_time": "2022-08-14T16:59:06.824Z"
   },
   {
    "duration": 0,
    "start_time": "2022-08-14T16:59:06.826Z"
   },
   {
    "duration": 0,
    "start_time": "2022-08-14T16:59:06.827Z"
   },
   {
    "duration": 13,
    "start_time": "2022-08-14T17:00:42.219Z"
   },
   {
    "duration": 1324,
    "start_time": "2022-08-14T17:00:49.296Z"
   },
   {
    "duration": 64,
    "start_time": "2022-08-14T17:00:50.624Z"
   },
   {
    "duration": 5,
    "start_time": "2022-08-14T17:00:50.690Z"
   },
   {
    "duration": 37,
    "start_time": "2022-08-14T17:00:50.697Z"
   },
   {
    "duration": 5,
    "start_time": "2022-08-14T17:00:50.735Z"
   },
   {
    "duration": 23,
    "start_time": "2022-08-14T17:00:50.741Z"
   },
   {
    "duration": 5,
    "start_time": "2022-08-14T17:00:50.781Z"
   },
   {
    "duration": 8,
    "start_time": "2022-08-14T17:00:50.787Z"
   },
   {
    "duration": 33,
    "start_time": "2022-08-14T17:00:50.796Z"
   },
   {
    "duration": 107,
    "start_time": "2022-08-14T17:00:50.831Z"
   },
   {
    "duration": 5,
    "start_time": "2022-08-14T17:00:50.940Z"
   },
   {
    "duration": 24,
    "start_time": "2022-08-14T17:00:50.947Z"
   },
   {
    "duration": 43,
    "start_time": "2022-08-14T17:00:50.973Z"
   },
   {
    "duration": 1353,
    "start_time": "2022-08-14T17:00:51.020Z"
   },
   {
    "duration": 0,
    "start_time": "2022-08-14T17:00:52.375Z"
   },
   {
    "duration": 0,
    "start_time": "2022-08-14T17:00:52.376Z"
   },
   {
    "duration": 0,
    "start_time": "2022-08-14T17:00:52.377Z"
   },
   {
    "duration": 0,
    "start_time": "2022-08-14T17:00:52.378Z"
   },
   {
    "duration": 0,
    "start_time": "2022-08-14T17:00:52.379Z"
   },
   {
    "duration": 0,
    "start_time": "2022-08-14T17:00:52.380Z"
   },
   {
    "duration": 0,
    "start_time": "2022-08-14T17:00:52.381Z"
   },
   {
    "duration": 1039,
    "start_time": "2022-08-14T17:01:40.394Z"
   },
   {
    "duration": 4487,
    "start_time": "2022-08-14T17:01:48.454Z"
   },
   {
    "duration": 602,
    "start_time": "2022-08-14T17:02:04.702Z"
   },
   {
    "duration": 4,
    "start_time": "2022-08-14T17:02:07.274Z"
   },
   {
    "duration": 731,
    "start_time": "2022-08-14T17:02:11.522Z"
   },
   {
    "duration": 5,
    "start_time": "2022-08-14T17:02:14.894Z"
   },
   {
    "duration": 280,
    "start_time": "2022-08-14T17:02:19.100Z"
   },
   {
    "duration": 11,
    "start_time": "2022-08-14T17:02:28.534Z"
   },
   {
    "duration": 633,
    "start_time": "2022-08-14T17:05:56.853Z"
   },
   {
    "duration": 4,
    "start_time": "2022-08-14T17:06:00.182Z"
   },
   {
    "duration": 739,
    "start_time": "2022-08-14T17:06:04.094Z"
   },
   {
    "duration": 4,
    "start_time": "2022-08-14T17:06:08.501Z"
   },
   {
    "duration": 33,
    "start_time": "2022-08-14T17:07:05.393Z"
   },
   {
    "duration": 25,
    "start_time": "2022-08-14T17:07:46.419Z"
   },
   {
    "duration": 4490,
    "start_time": "2022-08-14T17:08:18.481Z"
   },
   {
    "duration": 41,
    "start_time": "2022-08-14T17:10:01.874Z"
   },
   {
    "duration": 772,
    "start_time": "2022-08-14T17:10:51.353Z"
   },
   {
    "duration": 5342,
    "start_time": "2022-08-14T17:10:53.781Z"
   },
   {
    "duration": 938,
    "start_time": "2022-08-14T17:11:48.423Z"
   },
   {
    "duration": 5354,
    "start_time": "2022-08-14T17:11:52.223Z"
   },
   {
    "duration": 603,
    "start_time": "2022-08-14T17:13:32.941Z"
   },
   {
    "duration": 605,
    "start_time": "2022-08-14T17:13:52.881Z"
   },
   {
    "duration": 4542,
    "start_time": "2022-08-14T17:13:56.280Z"
   },
   {
    "duration": 9,
    "start_time": "2022-08-14T17:14:59.080Z"
   },
   {
    "duration": 116,
    "start_time": "2022-08-14T17:18:59.800Z"
   },
   {
    "duration": 695,
    "start_time": "2022-08-14T17:19:00.594Z"
   },
   {
    "duration": 1332,
    "start_time": "2022-08-14T17:19:15.001Z"
   },
   {
    "duration": 62,
    "start_time": "2022-08-14T17:19:16.335Z"
   },
   {
    "duration": 4,
    "start_time": "2022-08-14T17:19:16.398Z"
   },
   {
    "duration": 17,
    "start_time": "2022-08-14T17:19:16.404Z"
   },
   {
    "duration": 6,
    "start_time": "2022-08-14T17:19:16.423Z"
   },
   {
    "duration": 20,
    "start_time": "2022-08-14T17:19:16.430Z"
   },
   {
    "duration": 4,
    "start_time": "2022-08-14T17:19:16.452Z"
   },
   {
    "duration": 7,
    "start_time": "2022-08-14T17:19:16.458Z"
   },
   {
    "duration": 46,
    "start_time": "2022-08-14T17:19:16.466Z"
   },
   {
    "duration": 109,
    "start_time": "2022-08-14T17:19:16.515Z"
   },
   {
    "duration": 5,
    "start_time": "2022-08-14T17:19:16.625Z"
   },
   {
    "duration": 89,
    "start_time": "2022-08-14T17:19:16.631Z"
   },
   {
    "duration": 1162,
    "start_time": "2022-08-14T17:19:16.722Z"
   },
   {
    "duration": 4497,
    "start_time": "2022-08-14T17:19:17.886Z"
   },
   {
    "duration": 43,
    "start_time": "2022-08-14T17:19:22.385Z"
   },
   {
    "duration": 773,
    "start_time": "2022-08-14T17:19:22.430Z"
   },
   {
    "duration": 4558,
    "start_time": "2022-08-14T17:19:23.220Z"
   },
   {
    "duration": 4,
    "start_time": "2022-08-14T17:19:27.780Z"
   },
   {
    "duration": 27,
    "start_time": "2022-08-14T17:19:27.785Z"
   },
   {
    "duration": 94,
    "start_time": "2022-08-14T17:19:27.822Z"
   },
   {
    "duration": 773,
    "start_time": "2022-08-14T17:19:27.918Z"
   },
   {
    "duration": 5246,
    "start_time": "2022-08-14T17:19:28.693Z"
   },
   {
    "duration": 4,
    "start_time": "2022-08-14T17:19:33.941Z"
   },
   {
    "duration": 23,
    "start_time": "2022-08-14T17:19:33.946Z"
   },
   {
    "duration": 57,
    "start_time": "2022-08-14T17:19:33.971Z"
   },
   {
    "duration": 281,
    "start_time": "2022-08-14T17:19:34.033Z"
   },
   {
    "duration": 0,
    "start_time": "2022-08-14T17:19:34.323Z"
   },
   {
    "duration": 677,
    "start_time": "2022-08-14T17:20:46.457Z"
   },
   {
    "duration": 1173,
    "start_time": "2022-08-14T17:20:51.189Z"
   },
   {
    "duration": 21,
    "start_time": "2022-08-14T17:23:11.497Z"
   },
   {
    "duration": 6136,
    "start_time": "2022-08-14T17:23:52.490Z"
   },
   {
    "duration": 1243,
    "start_time": "2022-08-14T17:23:59.077Z"
   },
   {
    "duration": 111,
    "start_time": "2022-08-14T17:24:03.309Z"
   },
   {
    "duration": 20,
    "start_time": "2022-08-14T17:25:17.149Z"
   },
   {
    "duration": 19,
    "start_time": "2022-08-14T17:25:47.558Z"
   },
   {
    "duration": 18,
    "start_time": "2022-08-14T17:25:50.217Z"
   },
   {
    "duration": 15,
    "start_time": "2022-08-14T17:26:04.177Z"
   },
   {
    "duration": 284,
    "start_time": "2022-08-14T17:26:44.769Z"
   },
   {
    "duration": 2655,
    "start_time": "2022-08-14T17:27:22.729Z"
   },
   {
    "duration": 4467,
    "start_time": "2022-08-14T17:29:31.889Z"
   },
   {
    "duration": 56,
    "start_time": "2022-08-14T17:31:23.849Z"
   },
   {
    "duration": 62,
    "start_time": "2022-08-14T17:32:03.989Z"
   },
   {
    "duration": 41,
    "start_time": "2022-08-14T17:32:21.358Z"
   },
   {
    "duration": 64,
    "start_time": "2022-08-14T17:32:29.569Z"
   },
   {
    "duration": 10,
    "start_time": "2022-08-14T17:33:47.929Z"
   },
   {
    "duration": 9,
    "start_time": "2022-08-14T17:33:59.349Z"
   },
   {
    "duration": 18,
    "start_time": "2022-08-14T17:34:07.569Z"
   },
   {
    "duration": 121,
    "start_time": "2022-08-14T17:34:22.477Z"
   },
   {
    "duration": 34,
    "start_time": "2022-08-14T17:35:46.078Z"
   },
   {
    "duration": 24,
    "start_time": "2022-08-14T17:36:24.969Z"
   },
   {
    "duration": 22,
    "start_time": "2022-08-14T17:36:28.549Z"
   },
   {
    "duration": 14,
    "start_time": "2022-08-14T17:36:50.089Z"
   },
   {
    "duration": 164,
    "start_time": "2022-08-14T17:37:05.388Z"
   },
   {
    "duration": 176,
    "start_time": "2022-08-14T17:37:50.650Z"
   },
   {
    "duration": 17,
    "start_time": "2022-08-14T17:38:24.188Z"
   },
   {
    "duration": 23,
    "start_time": "2022-08-14T17:38:27.484Z"
   },
   {
    "duration": 16,
    "start_time": "2022-08-14T17:38:32.269Z"
   },
   {
    "duration": 23,
    "start_time": "2022-08-14T17:38:47.735Z"
   },
   {
    "duration": 233,
    "start_time": "2022-08-14T17:39:39.998Z"
   },
   {
    "duration": 33,
    "start_time": "2022-08-14T17:40:21.309Z"
   },
   {
    "duration": 200,
    "start_time": "2022-08-14T17:40:24.556Z"
   },
   {
    "duration": 203,
    "start_time": "2022-08-14T17:40:28.835Z"
   }
  ],
  "kernelspec": {
   "display_name": "Python 3 (ipykernel)",
   "language": "python",
   "name": "python3"
  },
  "language_info": {
   "codemirror_mode": {
    "name": "ipython",
    "version": 3
   },
   "file_extension": ".py",
   "mimetype": "text/x-python",
   "name": "python",
   "nbconvert_exporter": "python",
   "pygments_lexer": "ipython3",
   "version": "3.10.6"
  },
  "toc": {
   "base_numbering": 1,
   "nav_menu": {},
   "number_sections": true,
   "sideBar": true,
   "skip_h1_title": true,
   "title_cell": "Содержание",
   "title_sidebar": "Contents",
   "toc_cell": true,
   "toc_position": {},
   "toc_section_display": true,
   "toc_window_display": true
  }
 },
 "nbformat": 4,
 "nbformat_minor": 2
}
